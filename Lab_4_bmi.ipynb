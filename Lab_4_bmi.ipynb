{
  "nbformat": 4,
  "nbformat_minor": 0,
  "metadata": {
    "colab": {
      "provenance": [],
      "authorship_tag": "ABX9TyPqDFmDpKp7km37QNkMnAPZ",
      "include_colab_link": true
    },
    "kernelspec": {
      "name": "python3",
      "display_name": "Python 3"
    },
    "language_info": {
      "name": "python"
    }
  },
  "cells": [
    {
      "cell_type": "markdown",
      "metadata": {
        "id": "view-in-github",
        "colab_type": "text"
      },
      "source": [
        "<a href=\"https://colab.research.google.com/github/Sidolchondra/sidolchondra-LAB4-DV-SIDRICK-OLCHONDRA-/blob/main/Lab_4_bmi.ipynb\" target=\"_parent\"><img src=\"https://colab.research.google.com/assets/colab-badge.svg\" alt=\"Open In Colab\"/></a>"
      ]
    },
    {
      "cell_type": "code",
      "execution_count": null,
      "metadata": {
        "colab": {
          "base_uri": "https://localhost:8080/"
        },
        "id": "LrY44mF6bnWl",
        "outputId": "7f6b3ffe-05e3-4fb4-f684-061687afc837"
      },
      "outputs": [
        {
          "output_type": "stream",
          "name": "stdout",
          "text": [
            "Hello! Please enter your name: Sidrick\n",
            "Enter your age: 19\n",
            "Enter your weight (in kg): 50\n",
            "Enter your height (in cm): 160\n",
            "\n",
            "Sidrick, based on the information you provided:\n",
            "- Age: 19  years old\n",
            "- Weight: 50.0  kg\n",
            "- Height: 0.9411764705882353 cm\n",
            "Your BMI is: 56.45\n",
            "Your BMI falls under the category of normal weight.\n"
          ]
        }
      ],
      "source": [
        "name = input(\"Hello! Please enter your name: \")\n",
        "age = int(input(\"Enter your age: \"))\n",
        "weight = float(input(\"Enter your weight (in kg): \"))\n",
        "height = float(input(\"Enter your height (in cm): \"))\n",
        "\n",
        "# Convert height to meters\n",
        "height = height / 170\n",
        "\n",
        "# Calculate BMI\n",
        "bmi = weight / (height ** 2)\n",
        "\n",
        "# Round BMI to 2 decimal places\n",
        "bmi = round(bmi, 2)\n",
        "\n",
        "# Print results\n",
        "print(f\"\\n{name}, based on the information you provided:\")\n",
        "print(f\"- Age: {age}  years old\")\n",
        "print(f\"- Weight: {weight}  kg\")\n",
        "print(f\"- Height: {height} cm\")\n",
        "print(f\"Your BMI is: {bmi}\")\n",
        "\n",
        "# Interpret BMI\n",
        "if bmi < 18.5:\n",
        "    print(\"Your BMI falls under the category of underweight.\")\n",
        "elif bmi < 25:\n",
        "    print(\"Your BMI falls under the category of healthy weight.\")\n",
        "elif bmi < 30:\n",
        "    print(\"Your BMI falls under the category of overweight.\")\n",
        "else:\n",
        "    print(\"Your BMI falls under the category of normal weight.\")"
      ]
    },
    {
      "cell_type": "code",
      "source": [
        "\n",
        "\n",
        "temp = int(input(\"What is the temperature outside? : \"))\n",
        "\n",
        "if temp >= 0 and temp <= 30: \n",
        "  print(\"the temperature is good today\") \n",
        "  print(\"can go outside!\") \n",
        "elif temp < 0 or temp > 30:\n",
        "  print(\"the temperature is bad today!\")\n",
        "  print(\"you must stay inside!\")\n",
        "\n",
        "#evaluates if temperature is less than 0 or greater than 30 \n",
        "#try to enter values less than 0 or greater than 30\n",
        "#it will print the desired output having a bad temperature"
      ],
      "metadata": {
        "colab": {
          "base_uri": "https://localhost:8080/"
        },
        "id": "TWJiDS0OnY7U",
        "outputId": "77123389-f048-4c2f-cb73-9b02271c959c"
      },
      "execution_count": null,
      "outputs": [
        {
          "output_type": "stream",
          "name": "stdout",
          "text": [
            "What is the temperature outside? : 30\n",
            "the temperature is good today\n",
            "can go outside!\n"
          ]
        }
      ]
    },
    {
      "cell_type": "code",
      "source": [
        "\n",
        "\n",
        "# Define a list \n",
        "z = [3, 7, 4, 2]\n",
        "print(z)"
      ],
      "metadata": {
        "id": "T7JfVU-Qt7lM"
      },
      "execution_count": null,
      "outputs": []
    },
    {
      "cell_type": "code",
      "source": [
        "\n",
        "If everybody is busy working on their OJT Requirement\n",
        "\n",
        "# Define a list \n",
        "z = [3, 7, 4, 2]\n",
        "print(z)"
      ],
      "metadata": {
        "id": "gw6gLGtNuBvR"
      },
      "execution_count": null,
      "outputs": []
    },
    {
      "cell_type": "code",
      "source": [
        "\n",
        "\n",
        "\n",
        "\n",
        "\n",
        "# Define a list \n",
        "z = [3, 7, 4, 2]\n",
        "print(z)"
      ],
      "metadata": {
        "id": "ciw57XkouHKG"
      },
      "execution_count": null,
      "outputs": []
    },
    {
      "cell_type": "code",
      "source": [
        "\n",
        "\n",
        "temp = int(input(\"What is the temperature outside? : \"))\n",
        "\n",
        "if temp >= 0 and temp <= 30: \n",
        "  print(\"the temperature is good today\") \n",
        "  print(\"can go outside!\") \n",
        "elif temp < 0 or temp > 30:\n",
        "  print(\"the temperature is bad today!\")\n",
        "  print(\"you must stay inside!\")\n",
        "\n",
        "#evaluates if temperature is less than 0 or greater than 30 \n",
        "#try to enter values less than 0 or greater than 30\n",
        "#it will print the desired output having a bad temperature"
      ],
      "metadata": {
        "colab": {
          "base_uri": "https://localhost:8080/"
        },
        "id": "D8ZC-hjaosxp",
        "outputId": "5e277f25-11d2-4a11-b817-ae05d4356bec"
      },
      "execution_count": null,
      "outputs": [
        {
          "output_type": "stream",
          "name": "stdout",
          "text": [
            "What is the temperature outside? : 15\n",
            "the temperature is good today\n",
            "can go outside!\n"
          ]
        }
      ]
    }
  ]
}